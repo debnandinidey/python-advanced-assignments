{
 "cells": [
  {
   "cell_type": "markdown",
   "id": "f6af6427",
   "metadata": {},
   "source": [
    "1. What is the concept of an abstract superclass?"
   ]
  },
  {
   "cell_type": "markdown",
   "id": "db62d31c",
   "metadata": {},
   "source": [
    "ans: In object-oriented programming, an abstract superclass is a class that is designed to be inherited by other classes. It serves as a blueprint or template for its subclasses and provides a common interface or set of methods that the subclasses must implement.\n",
    "An abstract superclass cannot be instantiated directly; it exists solely for the purpose of providing a common structure and behavior to its subclasses. It defines abstract methods, which are declared but not implemented in the superclass. These abstract methods serve as placeholders, indicating that the subclasses must provide their own implementation."
   ]
  },
  {
   "cell_type": "markdown",
   "id": "4cbffa2c",
   "metadata": {},
   "source": [
    "2. What happens when a class statement&#39;s top level contains a basic assignment statement?"
   ]
  },
  {
   "cell_type": "markdown",
   "id": "491724b1",
   "metadata": {},
   "source": [
    "ans: When a class statement's top level contains a basic assignment statement, it defines a class attribute. Class attributes are variables or values that are shared by all instances of the class.In Python, a class attribute is defined outside of any methods within the class, typically at the top level of the class definition. It is assigned a value just like any other variable assignment statement. When an instance of the class is created, it can access and modify the class attribute, but each instance does not have its own copy of the attribute. Instead, all instances share the same attribute defined at the class level."
   ]
  },
  {
   "cell_type": "markdown",
   "id": "271f45c0",
   "metadata": {},
   "source": [
    "3. Why does a class need to manually call a superclass&#39;s __init__ method?"
   ]
  },
  {
   "cell_type": "markdown",
   "id": "dd225e67",
   "metadata": {},
   "source": [
    "ans: In Python, when a class inherits from a superclass, it does not automatically call the superclass's __init__ method unless explicitly specified. This behavior allows the subclass to override or extend the initialization process while still having the option to invoke the superclass's initialization logic.\n",
    "By manually calling the superclass's __init__ method in the subclass's __init__ method, the subclass can ensure that the initialization code defined in the superclass is executed. This is typically done using the super() function, which returns a temporary object of the superclass, allowing access to its methods and attributes."
   ]
  },
  {
   "cell_type": "markdown",
   "id": "13ab15ae",
   "metadata": {},
   "source": [
    "4. How can you augment, instead of completely replacing, an inherited method?"
   ]
  },
  {
   "cell_type": "markdown",
   "id": "fb98b13e",
   "metadata": {},
   "source": [
    "ans: In Python, you can augment (modify or extend) an inherited method from a superclass without completely replacing it by using method overriding. Method overriding allows a subclass to provide its own implementation of a method that already exists in the superclass.\n",
    "\n",
    "To augment an inherited method, we can follow the steps:\n",
    "\n",
    "Define a method with the same name in the subclass as the method you want to augment from the superclass.\n",
    "\n",
    "Implement the additional functionality or modifications within the subclass method.\n",
    "\n",
    "If desired, you can use the super() function to invoke the superclass's method within the subclass method. This allows you to reuse the superclass's implementation while adding your own modifications.\n"
   ]
  },
  {
   "cell_type": "markdown",
   "id": "e239c330",
   "metadata": {},
   "source": [
    "5. How is the local scope of a class different from that of a function?"
   ]
  },
  {
   "cell_type": "markdown",
   "id": "75464012",
   "metadata": {},
   "source": [
    "ans: The local scope of a class and a function in Python are different in the context of variable accessibility and usage.\n",
    "In a class, variables defined within methods (functions) are typically referred to as instance variables or attributes. These variables are accessible throughout the class and can be accessed using the self keyword. Instance variables have a broader scope within the class, allowing them to be accessed and modified by other methods within the same class.\n",
    "On the other hand, in a function, variables defined within the function body are considered local variables. Local variables are only accessible within the scope of the function in which they are defined. They are typically used for temporary storage or computations within the function and are not accessible outside of the function.\n"
   ]
  },
  {
   "cell_type": "code",
   "execution_count": null,
   "id": "425778e0",
   "metadata": {},
   "outputs": [],
   "source": []
  }
 ],
 "metadata": {
  "kernelspec": {
   "display_name": "Python 3 (ipykernel)",
   "language": "python",
   "name": "python3"
  },
  "language_info": {
   "codemirror_mode": {
    "name": "ipython",
    "version": 3
   },
   "file_extension": ".py",
   "mimetype": "text/x-python",
   "name": "python",
   "nbconvert_exporter": "python",
   "pygments_lexer": "ipython3",
   "version": "3.9.12"
  }
 },
 "nbformat": 4,
 "nbformat_minor": 5
}
